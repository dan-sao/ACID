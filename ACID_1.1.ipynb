{
 "cells": [
  {
   "cell_type": "code",
   "execution_count": 1,
   "metadata": {},
   "outputs": [],
   "source": [
    "import pandas as pd\n",
    "import numpy as np"
   ]
  },
  {
   "cell_type": "code",
   "execution_count": 2,
   "metadata": {},
   "outputs": [
    {
     "name": "stdout",
     "output_type": "stream",
     "text": [
      "<class 'pandas.core.frame.DataFrame'>\n",
      "RangeIndex: 11628 entries, 0 to 11627\n",
      "Data columns (total 20 columns):\n",
      " #   Column                 Non-Null Count  Dtype  \n",
      "---  ------                 --------------  -----  \n",
      " 0   DSS_REG_NUMBER         11628 non-null  int64  \n",
      " 1   DSDT_REG_DATE          11628 non-null  object \n",
      " 2   DSS_DESCRIPTION        11628 non-null  object \n",
      " 3   DOC_AUTHOR_NAME        11628 non-null  object \n",
      " 4   DOC_AUTHOR_POSITION    11628 non-null  object \n",
      " 5   DOC_AUTHOR_DEPARTMENT  11628 non-null  object \n",
      " 6   ФИЛИАЛ_АВТОРА          11628 non-null  object \n",
      " 7   DSS_THEMES             11628 non-null  object \n",
      " 8   DRS_APRV_NAME          11614 non-null  object \n",
      " 9   DRS_APRV_POSITION      11614 non-null  object \n",
      " 10  DRS_APRV_DEPARTMENT    11614 non-null  object \n",
      " 11  ФИЛИАЛ_СОГЛ            11614 non-null  object \n",
      " 12  DRS_APRV_STATE         11614 non-null  object \n",
      " 13  APP_ДАТА_ПОЛУЧЕН       11614 non-null  object \n",
      " 14  APP_ДАТА_НАЧ_РАБ       11614 non-null  object \n",
      " 15  APP_ДАТА_ОКН_РАБ       11614 non-null  object \n",
      " 16  DOC_ПЛАН_ДАТА_СОГЛ     11628 non-null  object \n",
      " 17  DOC_ФАКТ_ДАТА_СОГЛ     11628 non-null  object \n",
      " 18  APP_ДАТА_СОГЛ_ЭТАП     11628 non-null  object \n",
      " 19  DAY_APPROVE            11614 non-null  float64\n",
      "dtypes: float64(1), int64(1), object(18)\n",
      "memory usage: 1.8+ MB\n"
     ]
    }
   ],
   "source": [
    "ORDER_2019_ok = pd.read_excel('C:\\\\Users\\\\Пользователь\\\\Desktop\\\\ACID\\\\ORDER_2019_ok.xlsx')\n",
    "ORDER_2019_ok.info()"
   ]
  },
  {
   "cell_type": "code",
   "execution_count": 3,
   "metadata": {},
   "outputs": [],
   "source": [
    "np.sort(ORDER_2019_ok.DSS_REG_NUMBER.unique())\n",
    "ORDER_2019_ok.DSDT_REG_DATE = ORDER_2019_ok.DSDT_REG_DATE.astype('datetime64')"
   ]
  },
  {
   "cell_type": "code",
   "execution_count": 4,
   "metadata": {},
   "outputs": [],
   "source": [
    "ORDER_2019_ok.drop(['DOC_AUTHOR_NAME', \n",
    "                    'DOC_AUTHOR_POSITION', \n",
    "                    'ФИЛИАЛ_АВТОРА', \n",
    "                    'DRS_APRV_POSITION', \n",
    "                    'ФИЛИАЛ_СОГЛ', \n",
    "                    'DRS_APRV_STATE', \n",
    "                    'APP_ДАТА_ОКН_РАБ', \n",
    "                    'DOC_ПЛАН_ДАТА_СОГЛ', \n",
    "                    'APP_ДАТА_СОГЛ_ЭТАП', \n",
    "                    'DAY_APPROVE'],axis=1, inplace=True)"
   ]
  },
  {
   "cell_type": "code",
   "execution_count": 5,
   "metadata": {},
   "outputs": [],
   "source": [
    "ORDER_2019_ok.APP_ДАТА_ПОЛУЧЕН = ORDER_2019_ok.APP_ДАТА_ПОЛУЧЕН.astype('datetime64')\n",
    "#ORDER_2019_ok.APP_ДАТА_НАЧ_РАБ = ORDER_2019_ok.APP_ДАТА_НАЧ_РАБ.astype('datetime64')\n",
    "#ORDER_2019_ok.DOC_ФАКТ_ДАТА_СОГЛ = ORDER_2019_ok.DOC_ФАКТ_ДАТА_СОГЛ.astype('datetime64')\n",
    "\n",
    "# APP_ДАТА_НАЧ_РАБ и DOC_ФАКТ_ДАТА_СОГЛ могут быть пустыми - со значением 1-01-01 00:00:00"
   ]
  },
  {
   "cell_type": "code",
   "execution_count": 6,
   "metadata": {},
   "outputs": [
    {
     "name": "stdout",
     "output_type": "stream",
     "text": [
      "<class 'pandas.core.frame.DataFrame'>\n",
      "RangeIndex: 11628 entries, 0 to 11627\n",
      "Data columns (total 10 columns):\n",
      " #   Column                 Non-Null Count  Dtype         \n",
      "---  ------                 --------------  -----         \n",
      " 0   DSS_REG_NUMBER         11628 non-null  int64         \n",
      " 1   DSDT_REG_DATE          11628 non-null  datetime64[ns]\n",
      " 2   DSS_DESCRIPTION        11628 non-null  object        \n",
      " 3   DOC_AUTHOR_DEPARTMENT  11628 non-null  object        \n",
      " 4   DSS_THEMES             11628 non-null  object        \n",
      " 5   DRS_APRV_NAME          11614 non-null  object        \n",
      " 6   DRS_APRV_DEPARTMENT    11614 non-null  object        \n",
      " 7   APP_ДАТА_ПОЛУЧЕН       11614 non-null  datetime64[ns]\n",
      " 8   APP_ДАТА_НАЧ_РАБ       11614 non-null  object        \n",
      " 9   DOC_ФАКТ_ДАТА_СОГЛ     11628 non-null  object        \n",
      "dtypes: datetime64[ns](2), int64(1), object(7)\n",
      "memory usage: 908.6+ KB\n"
     ]
    }
   ],
   "source": [
    "ORDER_2019_ok.info()"
   ]
  },
  {
   "cell_type": "code",
   "execution_count": 33,
   "metadata": {
    "scrolled": false
   },
   "outputs": [
    {
     "data": {
      "text/plain": [
       "(47, 10)"
      ]
     },
     "execution_count": 33,
     "metadata": {},
     "output_type": "execute_result"
    }
   ],
   "source": [
    "ORDER_2019_ok[ORDER_2019_ok.DRS_APRV_DEPARTMENT == 'Управление менеджмента качества и операционной эффективности '].shape"
   ]
  },
  {
   "cell_type": "code",
   "execution_count": 11,
   "metadata": {},
   "outputs": [
    {
     "name": "stdout",
     "output_type": "stream",
     "text": [
      "<class 'pandas.core.frame.DataFrame'>\n",
      "Int64Index: 11614 entries, 0 to 11627\n",
      "Data columns (total 10 columns):\n",
      " #   Column                 Non-Null Count  Dtype         \n",
      "---  ------                 --------------  -----         \n",
      " 0   DSS_REG_NUMBER         11614 non-null  int64         \n",
      " 1   DSDT_REG_DATE          11614 non-null  datetime64[ns]\n",
      " 2   DSS_DESCRIPTION        11614 non-null  object        \n",
      " 3   DOC_AUTHOR_DEPARTMENT  11614 non-null  object        \n",
      " 4   DSS_THEMES             11614 non-null  object        \n",
      " 5   DRS_APRV_NAME          11614 non-null  object        \n",
      " 6   DRS_APRV_DEPARTMENT    11614 non-null  object        \n",
      " 7   APP_ДАТА_ПОЛУЧЕН       11614 non-null  datetime64[ns]\n",
      " 8   APP_ДАТА_НАЧ_РАБ       11614 non-null  object        \n",
      " 9   DOC_ФАКТ_ДАТА_СОГЛ     11614 non-null  object        \n",
      "dtypes: datetime64[ns](2), int64(1), object(7)\n",
      "memory usage: 998.1+ KB\n"
     ]
    }
   ],
   "source": [
    "ORDER_2019_ok.dropna(inplace=True)\n",
    "ORDER_2019_ok.info()"
   ]
  },
  {
   "cell_type": "code",
   "execution_count": 13,
   "metadata": {},
   "outputs": [],
   "source": [
    "ORDER_2019_ok_1 = ORDER_2019_ok[ORDER_2019_ok.APP_ДАТА_НАЧ_РАБ  != '01/01/0001']"
   ]
  },
  {
   "cell_type": "code",
   "execution_count": 15,
   "metadata": {},
   "outputs": [
    {
     "name": "stdout",
     "output_type": "stream",
     "text": [
      "<class 'pandas.core.frame.DataFrame'>\n",
      "Int64Index: 11535 entries, 0 to 11627\n",
      "Data columns (total 10 columns):\n",
      " #   Column                 Non-Null Count  Dtype         \n",
      "---  ------                 --------------  -----         \n",
      " 0   DSS_REG_NUMBER         11535 non-null  int64         \n",
      " 1   DSDT_REG_DATE          11535 non-null  datetime64[ns]\n",
      " 2   DSS_DESCRIPTION        11535 non-null  object        \n",
      " 3   DOC_AUTHOR_DEPARTMENT  11535 non-null  object        \n",
      " 4   DSS_THEMES             11535 non-null  object        \n",
      " 5   DRS_APRV_NAME          11535 non-null  object        \n",
      " 6   DRS_APRV_DEPARTMENT    11535 non-null  object        \n",
      " 7   APP_ДАТА_ПОЛУЧЕН       11535 non-null  datetime64[ns]\n",
      " 8   APP_ДАТА_НАЧ_РАБ       11535 non-null  object        \n",
      " 9   DOC_ФАКТ_ДАТА_СОГЛ     11535 non-null  object        \n",
      "dtypes: datetime64[ns](2), int64(1), object(7)\n",
      "memory usage: 991.3+ KB\n"
     ]
    }
   ],
   "source": [
    "ORDER_2019_ok_1 = ORDER_2019_ok_1[ORDER_2019_ok_1.DOC_ФАКТ_ДАТА_СОГЛ  != '01/01/0001']\n",
    "ORDER_2019_ok_1.info()"
   ]
  },
  {
   "cell_type": "code",
   "execution_count": 16,
   "metadata": {},
   "outputs": [],
   "source": [
    "ORDER_2019_ok_1.APP_ДАТА_НАЧ_РАБ = ORDER_2019_ok_1.APP_ДАТА_НАЧ_РАБ.astype('datetime64')\n",
    "ORDER_2019_ok_1.DOC_ФАКТ_ДАТА_СОГЛ = ORDER_2019_ok_1.DOC_ФАКТ_ДАТА_СОГЛ.astype('datetime64')"
   ]
  },
  {
   "cell_type": "code",
   "execution_count": 18,
   "metadata": {},
   "outputs": [
    {
     "data": {
      "text/plain": [
       "138"
      ]
     },
     "execution_count": 18,
     "metadata": {},
     "output_type": "execute_result"
    }
   ],
   "source": [
    "len(ORDER_2019_ok_1.DOC_AUTHOR_DEPARTMENT.unique())"
   ]
  },
  {
   "cell_type": "code",
   "execution_count": 19,
   "metadata": {},
   "outputs": [
    {
     "data": {
      "text/plain": [
       "176"
      ]
     },
     "execution_count": 19,
     "metadata": {},
     "output_type": "execute_result"
    }
   ],
   "source": [
    "len(ORDER_2019_ok_1.DRS_APRV_DEPARTMENT.unique())"
   ]
  },
  {
   "cell_type": "code",
   "execution_count": 20,
   "metadata": {},
   "outputs": [],
   "source": [
    "#все уникальные подразделения в файл\n",
    "units = np.concatenate((ORDER_2019_ok_1.DOC_AUTHOR_DEPARTMENT.unique(),ORDER_2019_ok_1.DRS_APRV_DEPARTMENT.unique()))\n",
    "units = np.unique(units)\n",
    "pd.DataFrame(units).to_csv('units.csv', encoding='utf-8-sig')"
   ]
  },
  {
   "cell_type": "code",
   "execution_count": 21,
   "metadata": {},
   "outputs": [
    {
     "data": {
      "text/html": [
       "<div>\n",
       "<style scoped>\n",
       "    .dataframe tbody tr th:only-of-type {\n",
       "        vertical-align: middle;\n",
       "    }\n",
       "\n",
       "    .dataframe tbody tr th {\n",
       "        vertical-align: top;\n",
       "    }\n",
       "\n",
       "    .dataframe thead th {\n",
       "        text-align: right;\n",
       "    }\n",
       "</style>\n",
       "<table border=\"1\" class=\"dataframe\">\n",
       "  <thead>\n",
       "    <tr style=\"text-align: right;\">\n",
       "      <th></th>\n",
       "      <th>DOC_AUTHOR_DEPARTMENT</th>\n",
       "      <th>DRS_APRV_DEPARTMENT</th>\n",
       "    </tr>\n",
       "  </thead>\n",
       "  <tbody>\n",
       "    <tr>\n",
       "      <th>0</th>\n",
       "      <td>Управление развития дистанционных сервисов</td>\n",
       "      <td>Руководство</td>\n",
       "    </tr>\n",
       "    <tr>\n",
       "      <th>1</th>\n",
       "      <td>Управление развития дистанционных сервисов</td>\n",
       "      <td>Заместитель генерального директора по корпорат...</td>\n",
       "    </tr>\n",
       "    <tr>\n",
       "      <th>2</th>\n",
       "      <td>Управление развития дистанционных сервисов</td>\n",
       "      <td>Генеральный директор</td>\n",
       "    </tr>\n",
       "    <tr>\n",
       "      <th>3</th>\n",
       "      <td>Управление развития дистанционных сервисов</td>\n",
       "      <td>Управление документационного обеспечения</td>\n",
       "    </tr>\n",
       "    <tr>\n",
       "      <th>4</th>\n",
       "      <td>Управление развития дистанционных сервисов</td>\n",
       "      <td>Управление развития дистанционных сервисов</td>\n",
       "    </tr>\n",
       "    <tr>\n",
       "      <th>...</th>\n",
       "      <td>...</td>\n",
       "      <td>...</td>\n",
       "    </tr>\n",
       "    <tr>\n",
       "      <th>11623</th>\n",
       "      <td>Управление инвестиционного планирования</td>\n",
       "      <td>Руководитель аппарата</td>\n",
       "    </tr>\n",
       "    <tr>\n",
       "      <th>11624</th>\n",
       "      <td>Управление инвестиционного планирования</td>\n",
       "      <td>Департамент инвестиций</td>\n",
       "    </tr>\n",
       "    <tr>\n",
       "      <th>11625</th>\n",
       "      <td>Управление инвестиционного планирования</td>\n",
       "      <td>Заместитель генерального директора по капиталь...</td>\n",
       "    </tr>\n",
       "    <tr>\n",
       "      <th>11626</th>\n",
       "      <td>Управление инвестиционного планирования</td>\n",
       "      <td>Управление документационного обеспечения</td>\n",
       "    </tr>\n",
       "    <tr>\n",
       "      <th>11627</th>\n",
       "      <td>Управление инвестиционного планирования</td>\n",
       "      <td>Генеральный директор</td>\n",
       "    </tr>\n",
       "  </tbody>\n",
       "</table>\n",
       "<p>11535 rows × 2 columns</p>\n",
       "</div>"
      ],
      "text/plain": [
       "                            DOC_AUTHOR_DEPARTMENT  \\\n",
       "0      Управление развития дистанционных сервисов   \n",
       "1      Управление развития дистанционных сервисов   \n",
       "2      Управление развития дистанционных сервисов   \n",
       "3      Управление развития дистанционных сервисов   \n",
       "4      Управление развития дистанционных сервисов   \n",
       "...                                           ...   \n",
       "11623     Управление инвестиционного планирования   \n",
       "11624     Управление инвестиционного планирования   \n",
       "11625     Управление инвестиционного планирования   \n",
       "11626     Управление инвестиционного планирования   \n",
       "11627     Управление инвестиционного планирования   \n",
       "\n",
       "                                     DRS_APRV_DEPARTMENT  \n",
       "0                                            Руководство  \n",
       "1      Заместитель генерального директора по корпорат...  \n",
       "2                                   Генеральный директор  \n",
       "3               Управление документационного обеспечения  \n",
       "4             Управление развития дистанционных сервисов  \n",
       "...                                                  ...  \n",
       "11623                              Руководитель аппарата  \n",
       "11624                             Департамент инвестиций  \n",
       "11625  Заместитель генерального директора по капиталь...  \n",
       "11626           Управление документационного обеспечения  \n",
       "11627                               Генеральный директор  \n",
       "\n",
       "[11535 rows x 2 columns]"
      ]
     },
     "execution_count": 21,
     "metadata": {},
     "output_type": "execute_result"
    }
   ],
   "source": [
    "rel = ORDER_2019_ok_1[['DOC_AUTHOR_DEPARTMENT', 'DRS_APRV_DEPARTMENT']]\n",
    "rel"
   ]
  },
  {
   "cell_type": "code",
   "execution_count": 22,
   "metadata": {},
   "outputs": [],
   "source": [
    "def ind(name, array):\n",
    "    return list(array).index(name)"
   ]
  },
  {
   "cell_type": "code",
   "execution_count": 23,
   "metadata": {},
   "outputs": [
    {
     "name": "stderr",
     "output_type": "stream",
     "text": [
      "C:\\anaconda3\\lib\\site-packages\\pandas\\core\\generic.py:5168: SettingWithCopyWarning: \n",
      "A value is trying to be set on a copy of a slice from a DataFrame.\n",
      "Try using .loc[row_indexer,col_indexer] = value instead\n",
      "\n",
      "See the caveats in the documentation: https://pandas.pydata.org/pandas-docs/stable/user_guide/indexing.html#returning-a-view-versus-a-copy\n",
      "  self[name] = value\n"
     ]
    }
   ],
   "source": [
    "rel.DOC_AUTHOR_DEPARTMENT = rel.DOC_AUTHOR_DEPARTMENT.apply(lambda x: ind(x, units))"
   ]
  },
  {
   "cell_type": "code",
   "execution_count": 24,
   "metadata": {},
   "outputs": [],
   "source": [
    "rel.DRS_APRV_DEPARTMENT = rel.DRS_APRV_DEPARTMENT.apply(lambda x: ind(x, units))"
   ]
  },
  {
   "cell_type": "code",
   "execution_count": 25,
   "metadata": {},
   "outputs": [],
   "source": [
    "rel.to_csv('relations.csv', encoding='utf-8-sig')"
   ]
  },
  {
   "cell_type": "code",
   "execution_count": 26,
   "metadata": {},
   "outputs": [],
   "source": [
    "rel.columns = ['Source', 'Target']"
   ]
  },
  {
   "cell_type": "code",
   "execution_count": 27,
   "metadata": {},
   "outputs": [],
   "source": [
    "rel.to_csv('relations.csv', encoding='utf-8-sig')#, index=False)"
   ]
  },
  {
   "cell_type": "code",
   "execution_count": 36,
   "metadata": {},
   "outputs": [
    {
     "data": {
      "text/plain": [
       "155"
      ]
     },
     "execution_count": 36,
     "metadata": {},
     "output_type": "execute_result"
    }
   ],
   "source": [
    "list(units).index('Управление менеджмента качества и операционной эффективности ')"
   ]
  },
  {
   "cell_type": "code",
   "execution_count": 40,
   "metadata": {},
   "outputs": [
    {
     "data": {
      "text/plain": [
       "(47, 2)"
      ]
     },
     "execution_count": 40,
     "metadata": {},
     "output_type": "execute_result"
    }
   ],
   "source": [
    "rel[rel.Target == 155].shape"
   ]
  }
 ],
 "metadata": {
  "kernelspec": {
   "display_name": "Python 3",
   "language": "python",
   "name": "python3"
  },
  "language_info": {
   "codemirror_mode": {
    "name": "ipython",
    "version": 3
   },
   "file_extension": ".py",
   "mimetype": "text/x-python",
   "name": "python",
   "nbconvert_exporter": "python",
   "pygments_lexer": "ipython3",
   "version": "3.8.3"
  }
 },
 "nbformat": 4,
 "nbformat_minor": 4
}
